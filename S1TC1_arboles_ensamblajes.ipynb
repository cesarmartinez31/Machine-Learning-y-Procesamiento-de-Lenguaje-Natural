{
 "cells": [
  {
   "cell_type": "markdown",
   "metadata": {},
   "source": [
    "![image info](https://raw.githubusercontent.com/albahnsen/MIAD_ML_and_NLP/main/images/banner_1.png)"
   ]
  },
  {
   "cell_type": "markdown",
   "metadata": {},
   "source": [
    "# Taller: Construcción e implementación de árboles de decisión y métodos de ensamblaje\n",
    "\n",
    "En este taller podrá poner en práctica los sus conocimientos sobre construcción e implementación de árboles de decisión y métodos de ensamblajes. El taller está constituido por 9 puntos, 5 relacionados con árboles de decisión (parte A) y 4 con métodos de ensamblaje (parte B)."
   ]
  },
  {
   "cell_type": "markdown",
   "metadata": {},
   "source": [
    "## Parte A - Árboles de decisión\n",
    "\n",
    "En esta parte del taller se usará el conjunto de datos de Capital Bikeshare de Kaggle, donde cada observación representa el alquiler de bicicletas durante una hora y día determinado. Para más detalles puede visitar los siguientes enlaces: [datos](https://archive.ics.uci.edu/ml/machine-learning-databases/00275/Bike-Sharing-Dataset.zip), [dicccionario de datos](https://archive.ics.uci.edu/ml/datasets/Bike+Sharing+Dataset#)."
   ]
  },
  {
   "cell_type": "markdown",
   "metadata": {},
   "source": [
    "### Datos prestamo de bicicletas"
   ]
  },
  {
   "cell_type": "code",
   "execution_count": 1,
   "metadata": {},
   "outputs": [],
   "source": [
    "import warnings\n",
    "warnings.filterwarnings('ignore')"
   ]
  },
  {
   "cell_type": "code",
   "execution_count": 69,
   "metadata": {},
   "outputs": [],
   "source": [
    "# Importación de librerías\n",
    "%matplotlib inline\n",
    "import pandas as pd\n",
    "import numpy as np\n",
    "from sklearn.model_selection import cross_val_score, train_test_split, GridSearchCV\n",
    "from sklearn.linear_model import LinearRegression\n",
    "from sklearn.tree import DecisionTreeRegressor, export_graphviz\n",
    "from sklearn.preprocessing import OneHotEncoder\n",
    "from sklearn.compose import ColumnTransformer\n",
    "import matplotlib.pyplot as plt\n",
    "from sklearn.pipeline import Pipeline\n",
    "from sklearn.tree import DecisionTreeRegressor\n",
    "from sklearn.metrics import mean_squared_error\n",
    "from sklearn.ensemble import BaggingClassifier, VotingClassifier\n",
    "from sklearn.tree import DecisionTreeClassifier\n",
    "from sklearn.linear_model import LogisticRegression\n",
    "from sklearn.metrics import accuracy_score, f1_score"
   ]
  },
  {
   "cell_type": "code",
   "execution_count": 3,
   "metadata": {
    "scrolled": true
   },
   "outputs": [
    {
     "data": {
      "text/html": [
       "<div>\n",
       "<style scoped>\n",
       "    .dataframe tbody tr th:only-of-type {\n",
       "        vertical-align: middle;\n",
       "    }\n",
       "\n",
       "    .dataframe tbody tr th {\n",
       "        vertical-align: top;\n",
       "    }\n",
       "\n",
       "    .dataframe thead th {\n",
       "        text-align: right;\n",
       "    }\n",
       "</style>\n",
       "<table border=\"1\" class=\"dataframe\">\n",
       "  <thead>\n",
       "    <tr style=\"text-align: right;\">\n",
       "      <th></th>\n",
       "      <th>season</th>\n",
       "      <th>holiday</th>\n",
       "      <th>workingday</th>\n",
       "      <th>weather</th>\n",
       "      <th>temp</th>\n",
       "      <th>atemp</th>\n",
       "      <th>humidity</th>\n",
       "      <th>windspeed</th>\n",
       "      <th>casual</th>\n",
       "      <th>registered</th>\n",
       "      <th>total</th>\n",
       "      <th>hour</th>\n",
       "    </tr>\n",
       "    <tr>\n",
       "      <th>datetime</th>\n",
       "      <th></th>\n",
       "      <th></th>\n",
       "      <th></th>\n",
       "      <th></th>\n",
       "      <th></th>\n",
       "      <th></th>\n",
       "      <th></th>\n",
       "      <th></th>\n",
       "      <th></th>\n",
       "      <th></th>\n",
       "      <th></th>\n",
       "      <th></th>\n",
       "    </tr>\n",
       "  </thead>\n",
       "  <tbody>\n",
       "    <tr>\n",
       "      <th>2011-01-01 00:00:00</th>\n",
       "      <td>1</td>\n",
       "      <td>0</td>\n",
       "      <td>0</td>\n",
       "      <td>1</td>\n",
       "      <td>9.84</td>\n",
       "      <td>14.395</td>\n",
       "      <td>81</td>\n",
       "      <td>0.0</td>\n",
       "      <td>3</td>\n",
       "      <td>13</td>\n",
       "      <td>16</td>\n",
       "      <td>0</td>\n",
       "    </tr>\n",
       "    <tr>\n",
       "      <th>2011-01-01 01:00:00</th>\n",
       "      <td>1</td>\n",
       "      <td>0</td>\n",
       "      <td>0</td>\n",
       "      <td>1</td>\n",
       "      <td>9.02</td>\n",
       "      <td>13.635</td>\n",
       "      <td>80</td>\n",
       "      <td>0.0</td>\n",
       "      <td>8</td>\n",
       "      <td>32</td>\n",
       "      <td>40</td>\n",
       "      <td>1</td>\n",
       "    </tr>\n",
       "    <tr>\n",
       "      <th>2011-01-01 02:00:00</th>\n",
       "      <td>1</td>\n",
       "      <td>0</td>\n",
       "      <td>0</td>\n",
       "      <td>1</td>\n",
       "      <td>9.02</td>\n",
       "      <td>13.635</td>\n",
       "      <td>80</td>\n",
       "      <td>0.0</td>\n",
       "      <td>5</td>\n",
       "      <td>27</td>\n",
       "      <td>32</td>\n",
       "      <td>2</td>\n",
       "    </tr>\n",
       "    <tr>\n",
       "      <th>2011-01-01 03:00:00</th>\n",
       "      <td>1</td>\n",
       "      <td>0</td>\n",
       "      <td>0</td>\n",
       "      <td>1</td>\n",
       "      <td>9.84</td>\n",
       "      <td>14.395</td>\n",
       "      <td>75</td>\n",
       "      <td>0.0</td>\n",
       "      <td>3</td>\n",
       "      <td>10</td>\n",
       "      <td>13</td>\n",
       "      <td>3</td>\n",
       "    </tr>\n",
       "    <tr>\n",
       "      <th>2011-01-01 04:00:00</th>\n",
       "      <td>1</td>\n",
       "      <td>0</td>\n",
       "      <td>0</td>\n",
       "      <td>1</td>\n",
       "      <td>9.84</td>\n",
       "      <td>14.395</td>\n",
       "      <td>75</td>\n",
       "      <td>0.0</td>\n",
       "      <td>0</td>\n",
       "      <td>1</td>\n",
       "      <td>1</td>\n",
       "      <td>4</td>\n",
       "    </tr>\n",
       "  </tbody>\n",
       "</table>\n",
       "</div>"
      ],
      "text/plain": [
       "                     season  holiday  workingday  weather  temp   atemp  \\\n",
       "datetime                                                                  \n",
       "2011-01-01 00:00:00       1        0           0        1  9.84  14.395   \n",
       "2011-01-01 01:00:00       1        0           0        1  9.02  13.635   \n",
       "2011-01-01 02:00:00       1        0           0        1  9.02  13.635   \n",
       "2011-01-01 03:00:00       1        0           0        1  9.84  14.395   \n",
       "2011-01-01 04:00:00       1        0           0        1  9.84  14.395   \n",
       "\n",
       "                     humidity  windspeed  casual  registered  total  hour  \n",
       "datetime                                                                   \n",
       "2011-01-01 00:00:00        81        0.0       3          13     16     0  \n",
       "2011-01-01 01:00:00        80        0.0       8          32     40     1  \n",
       "2011-01-01 02:00:00        80        0.0       5          27     32     2  \n",
       "2011-01-01 03:00:00        75        0.0       3          10     13     3  \n",
       "2011-01-01 04:00:00        75        0.0       0           1      1     4  "
      ]
     },
     "execution_count": 3,
     "metadata": {},
     "output_type": "execute_result"
    }
   ],
   "source": [
    "# Lectura de la información de archivo .csv\n",
    "bikes = pd.read_csv('https://raw.githubusercontent.com/davidzarruk/MIAD_ML_NLP_2023/main/datasets/bikeshare.csv', index_col='datetime', parse_dates=True)\n",
    "\n",
    "# Renombrar variable \"count\" a \"total\"\n",
    "bikes.rename(columns={'count':'total'}, inplace=True)\n",
    "\n",
    "# Crear la hora como una variable \n",
    "bikes['hour'] = bikes.index.hour\n",
    "\n",
    "# Visualización de los datos\n",
    "bikes.head()"
   ]
  },
  {
   "cell_type": "markdown",
   "metadata": {},
   "source": [
    "### Punto 1 - Análisis descriptivo\n",
    "\n",
    "Ejecute las celdas 1.1 y 1.2. A partir de los resultados realice un análisis descriptivo sobre las variables \"season\" y \"hour\", escriba sus inferencias sobre los datos. Para complementar su análisis puede usar métricas como máximo, mínimo, percentiles entre otros."
   ]
  },
  {
   "cell_type": "code",
   "execution_count": 12,
   "metadata": {
    "scrolled": true
   },
   "outputs": [
    {
     "name": "stdout",
     "output_type": "stream",
     "text": [
      "         count        mean         std  min   25%    50%    75%    max\n",
      "season                                                                \n",
      "1       2686.0  116.343261  125.273974  1.0  24.0   78.0  164.0  801.0\n",
      "2       2733.0  215.251372  192.007843  1.0  49.0  172.0  321.0  873.0\n",
      "3       2733.0  234.417124  197.151001  1.0  68.0  195.0  347.0  977.0\n",
      "4       2734.0  198.988296  177.622409  1.0  51.0  161.0  294.0  948.0\n"
     ]
    },
    {
     "data": {
      "text/plain": [
       "season\n",
       "1    116.343261\n",
       "2    215.251372\n",
       "3    234.417124\n",
       "4    198.988296\n",
       "Name: total, dtype: float64"
      ]
     },
     "execution_count": 12,
     "metadata": {},
     "output_type": "execute_result"
    }
   ],
   "source": [
    "# Celda 1.1\n",
    "print(bikes.groupby('season')['total'].describe())\n",
    "bikes.groupby('season').total.mean()"
   ]
  },
  {
   "cell_type": "markdown",
   "metadata": {},
   "source": [
    "Revisando los datos se puede ver que para cada estacion presenta unos datos relevantes:\n",
    "\n",
    "#### Invierno\n",
    "\n",
    "    -La cantidad promedio de alquileres de bicicletas es de aproximadamente 116.\n",
    "    -El mínimo de alquileres en una hora es 1, y el máximo es 801.\n",
    "    -El 25% de los alquileres están por debajo de 24, el 50% están por debajo de 78 y el 75% están por debajo de 164.\n",
    "\n",
    "#### Primavera\n",
    "\n",
    "    -La cantidad promedio de alquileres de bicicletas es de aproximadamente 215.\n",
    "    -El mínimo de alquileres en una hora es 1, y el máximo es 873.\n",
    "    -El 25% de los alquileres están por debajo de 49, el 50% están por debajo de 172 y el 75% están por debajo de 321.\n",
    "\n",
    "#### Verano\n",
    "\n",
    "    -La cantidad promedio de alquileres de bicicletas es de aproximadamente 234.\n",
    "    -El mínimo de alquileres en una hora es 1, y el máximo es 977.\n",
    "    -El 25% de los alquileres están por debajo de 68, el 50% están por debajo de 195 y el 75% están por debajo de 347.\n",
    "\n",
    "#### Otoño\n",
    "\n",
    "    -La cantidad promedio de alquileres de bicicletas es de aproximadamente 199.\n",
    "    -El mínimo de alquileres en una hora es 1, y el máximo es 948.\n",
    "    -El 25% de los alquileres están por debajo de 51, el 50% están por debajo de 161 y el 75% están por debajo de 294.\n",
    "\n",
    "Segun los datos expuestos podemos concluir que desde la temporada de Invierno hasta la de Verano tiene un crecimiento gradual en el alquiler de bicicletas en el cual Verano es donde mas se alquinan y en Otoño comienza a tener una tendencia decreciente de alquiler de bicicletas."
   ]
  },
  {
   "cell_type": "code",
   "execution_count": 13,
   "metadata": {
    "scrolled": true
   },
   "outputs": [
    {
     "name": "stdout",
     "output_type": "stream",
     "text": [
      "      count        mean         std   min     25%    50%     75%    max\n",
      "hour                                                                   \n",
      "0     455.0   55.138462   43.620012   2.0   24.00   41.0   74.50  283.0\n",
      "1     454.0   33.859031   34.112105   1.0   11.00   19.0   46.00  168.0\n",
      "2     448.0   22.899554   26.110267   1.0    5.00   11.0   32.00  119.0\n",
      "3     433.0   11.757506   12.666442   1.0    3.00    6.0   15.00   66.0\n",
      "4     442.0    6.407240    4.217633   1.0    3.00    6.0    9.00   28.0\n",
      "5     452.0   19.767699   12.784293   1.0    8.00   19.0   29.00   57.0\n",
      "6     455.0   76.259341   54.745333   1.0   24.50   75.0  118.00  213.0\n",
      "7     455.0  213.116484  159.207044   1.0   63.00  208.0  334.00  596.0\n",
      "8     455.0  362.769231  231.723065   8.0  133.50  392.0  563.50  839.0\n",
      "9     455.0  221.780220   92.099209  14.0  161.00  217.0  294.50  414.0\n",
      "10    455.0  175.092308  101.807629  17.0  106.00  149.0  218.50  539.0\n",
      "11    455.0  210.674725  127.444294  10.0  123.00  183.0  265.50  647.0\n",
      "12    456.0  256.508772  143.881880   3.0  157.00  234.5  332.00  757.0\n",
      "13    456.0  257.787281  149.167185  11.0  154.00  226.5  329.00  729.0\n",
      "14    456.0  243.442982  147.563199  12.0  144.00  212.0  311.25  730.0\n",
      "15    456.0  254.298246  144.235670   7.0  154.00  232.0  331.00  724.0\n",
      "16    456.0  316.372807  145.664786  11.0  211.75  309.5  421.00  783.0\n",
      "17    456.0  468.765351  223.775485  15.0  277.00  480.5  608.50  970.0\n",
      "18    456.0  430.859649  219.908138  23.0  240.75  422.5  564.00  977.0\n",
      "19    456.0  315.278509  156.641732  11.0  190.00  312.5  416.00  743.0\n",
      "20    456.0  228.517544  116.411565  11.0  136.75  224.0  302.00  551.0\n",
      "21    456.0  173.370614   87.629319   6.0  103.50  171.5  230.00  584.0\n",
      "22    456.0  133.576754   69.844495   9.0   80.00  129.0  175.00  502.0\n",
      "23    456.0   89.508772   51.638004   4.0   52.75   80.0  123.00  256.0\n"
     ]
    },
    {
     "data": {
      "text/plain": [
       "hour\n",
       "0      55.138462\n",
       "1      33.859031\n",
       "2      22.899554\n",
       "3      11.757506\n",
       "4       6.407240\n",
       "5      19.767699\n",
       "6      76.259341\n",
       "7     213.116484\n",
       "8     362.769231\n",
       "9     221.780220\n",
       "10    175.092308\n",
       "11    210.674725\n",
       "12    256.508772\n",
       "13    257.787281\n",
       "14    243.442982\n",
       "15    254.298246\n",
       "16    316.372807\n",
       "17    468.765351\n",
       "18    430.859649\n",
       "19    315.278509\n",
       "20    228.517544\n",
       "21    173.370614\n",
       "22    133.576754\n",
       "23     89.508772\n",
       "Name: total, dtype: float64"
      ]
     },
     "execution_count": 13,
     "metadata": {},
     "output_type": "execute_result"
    }
   ],
   "source": [
    "# Celda 1.2\n",
    "print(bikes.groupby('hour')['total'].describe())\n",
    "bikes.groupby('hour').total.mean()"
   ]
  },
  {
   "cell_type": "markdown",
   "metadata": {},
   "source": [
    "Segun los datos que se visualizan y los horarios en los que mas se alquina bicicletas  en horas de la mañana esta entre 7 y 9 am de la mañana y en la tarde son de 3 a 6 pm con máximos que superan los 400 alquileres por hora.\n",
    "\n",
    "Tambien se puede ver que las horas en que menos se alquilan bicicletas es en horas de la madrugada entre 3 a 5 am y durante la noches va tendiendo un decrecimiento hasta las horas de la mañana."
   ]
  },
  {
   "cell_type": "markdown",
   "metadata": {},
   "source": [
    "### Punto 2 - Análisis de gráficos\n",
    "\n",
    "Primero ejecute la celda 2.1 y asegúrese de comprender el código y el resultado. Luego, en cada una de celdas 2.2 y 2.3 escriba un código que genere una gráfica del número de bicicletas rentadas promedio para cada valor de la variable \"hour\" (hora) cuando la variable \"season\" es igual a 1 (invierno) e igual a 3 (verano), respectivamente. Analice y escriba sus hallazgos."
   ]
  },
  {
   "cell_type": "code",
   "execution_count": 14,
   "metadata": {
    "scrolled": false
   },
   "outputs": [
    {
     "data": {
      "text/plain": [
       "<Axes: xlabel='hour'>"
      ]
     },
     "execution_count": 14,
     "metadata": {},
     "output_type": "execute_result"
    },
    {
     "data": {
      "image/png": "[encoded data removed]",
      "text/plain": [
       "<Figure size 640x480 with 1 Axes>"
      ]
     },
     "metadata": {},
     "output_type": "display_data"
    }
   ],
   "source": [
    "# Celda 2.1 - rentas promedio para cada valor de la variable \"hour\"\n",
    "bikes.groupby('hour').total.mean().plot()"
   ]
  },
  {
   "cell_type": "code",
   "execution_count": 28,
   "metadata": {
    "scrolled": false
   },
   "outputs": [
    {
     "data": {
      "text/plain": [
       "<Axes: xlabel='hour'>"
      ]
     },
     "execution_count": 28,
     "metadata": {},
     "output_type": "execute_result"
    },
    {
     "data": {
      "image/png": "[encoded data removed]",
      "text/plain": [
       "<Figure size 640x480 with 1 Axes>"
      ]
     },
     "metadata": {},
     "output_type": "display_data"
    }
   ],
   "source": [
    "# Celda 2.2 - \"season\"=1 escriba su código y hallazgos \n",
    "bikes[bikes['season'] == 1].groupby('hour').total.mean().plot()\n"
   ]
  },
  {
   "cell_type": "markdown",
   "metadata": {},
   "source": [
    "Segun la grafica en la temporada de invierno se puede observar que desde las 5 am tiene una tendencia creciente hasta las 8 am y luego comienza a decrecer levemente hasta las 10 am luego vuelve a tener un crecimiento a las 5pm hasta llegar a su punto mas alto durante el dia luego comienza a tener un decrecimiento hasta las 4 am, tambien se puede ver que los picos mas altos en horas de la mañana y de la tarde son a las 8am con 253 alquileres en promedio y a las 5pm con 283 alquileres en promedio y se puede ver que el pico mas bajo donde no se alquilan bicicletas es a las  4 am con 3 en promedio, con esta informacion se puede concluir que las horas mas congestionadas son a las 8am y 5pm."
   ]
  },
  {
   "cell_type": "code",
   "execution_count": 26,
   "metadata": {
    "scrolled": false
   },
   "outputs": [
    {
     "data": {
      "text/plain": [
       "<Axes: xlabel='hour'>"
      ]
     },
     "execution_count": 26,
     "metadata": {},
     "output_type": "execute_result"
    },
    {
     "data": {
      "image/png": "[encoded data removed]",
      "text/plain": [
       "<Figure size 640x480 with 1 Axes>"
      ]
     },
     "metadata": {},
     "output_type": "display_data"
    }
   ],
   "source": [
    "# Celda 2.3 - \"season\"=3 escriba su código y hallazgos \n",
    "bikes[bikes['season'] == 3].groupby('hour').total.mean().plot()\n"
   ]
  },
  {
   "cell_type": "markdown",
   "metadata": {},
   "source": [
    "Segun la grafica en la temporada de verano se puede observar que desde las 5 am tiene una tendencia creciente hasta las 8 am y luego comienza a decrecer levemente hasta las 10 am luego vuelve a tener un crecimiento a las 5pm hasta llegar a su punto mas alto durante el dia luego comienza a tener un decrecimiento hasta las 4 am, tambien se puede ver que los picos mas altos en horas de la mañana y de la tarde son a las 8am con 403 alquileres en promedio y a las 5pm con 565 alquileres en promedio y se puede ver que el pico mas bajo donde no se alquilan bicicletas es a las  4 am con 8 en promedio, con esta informacion se puede concluir que las horas mas congestionadas son a las 8am y 5pm."
   ]
  },
  {
   "cell_type": "markdown",
   "metadata": {},
   "source": [
    "Segun las dos graficas se puede notar un comportamiento similar en las tendecias de alquiler de bicicleta tanto en invierno como en verano, la diferencia en verano se alquilan mas bicicletas que en invierno en su totalidad y esto genera que en los picos se vea mayor cantidad en el alquiler de estas."
   ]
  },
  {
   "cell_type": "markdown",
   "metadata": {},
   "source": [
    "### Punto 3 - Regresión lineal\n",
    "En la celda 3 ajuste un modelo de regresión lineal a todo el conjunto de datos, utilizando \"total\" como variable de respuesta y \"season\" y \"hour\" como las únicas variables predictoras, teniendo en cuenta que la variable \"season\" es categórica. Luego, imprima los coeficientes e interprételos. ¿Cuáles son las limitaciones de la regresión lineal en este caso?"
   ]
  },
  {
   "cell_type": "code",
   "execution_count": 52,
   "metadata": {},
   "outputs": [
    {
     "name": "stdout",
     "output_type": "stream",
     "text": [
      "Error cuadrático medio (MSE) en conjunto de entrenamiento: 25503.908774393876\n",
      "Error cuadrático medio (MSE) en conjunto de prueba: 25397.728464958534\n"
     ]
    }
   ],
   "source": [
    "# Celda 3\n",
    "X = bikes[['season', 'hour']]\n",
    "y = bikes['total']\n",
    "\n",
    "X_train, X_test, y_train, y_test = train_test_split(X, y, test_size=0.2, random_state=42)\n",
    "\n",
    "transformer = ColumnTransformer(\n",
    "    transformers=[\n",
    "        ('encoder', OneHotEncoder(categories=[[1, 2, 3, 4]]), ['season'])\n",
    "    ],\n",
    "    remainder='passthrough'\n",
    ")\n",
    "\n",
    "model = Pipeline(steps=[('preprocessor', transformer),\n",
    "                        ('regressor', LinearRegression())])\n",
    "\n",
    "model.fit(X_train, y_train)\n",
    "\n",
    "y_pred_train = model.predict(X_train)\n",
    "\n",
    "y_pred_test = model.predict(X_test)\n",
    "\n",
    "mse_train = mean_squared_error(y_train, y_pred_train)\n",
    "mse_test = mean_squared_error(y_test, y_pred_test)\n",
    "\n",
    "print(\"Error cuadrático medio (MSE) en conjunto de entrenamiento:\", mse_train)\n",
    "print(\"Error cuadrático medio (MSE) en conjunto de prueba:\", mse_test)"
   ]
  },
  {
   "cell_type": "markdown",
   "metadata": {},
   "source": [
    "Los resultados sugieren que la regresión lineal podría no ser la opción más adecuada para este conjunto de datos, dado que podría haber multicolinealidad, sobreajuste y otras limitaciones. Por consiguiente, sería prudente realizar una validación utilizando árboles de decisión para determinar si este modelo ofrece una interpretación más precisa de los resultados."
   ]
  },
  {
   "cell_type": "markdown",
   "metadata": {},
   "source": [
    "### Punto 4 - Árbol de decisión manual\n",
    "En la celda 4 cree un árbol de decisiones para pronosticar la variable \"total\" iterando **manualmente** sobre las variables \"hour\" y  \"season\". El árbol debe tener al menos 6 nodos finales."
   ]
  },
  {
   "cell_type": "code",
   "execution_count": 89,
   "metadata": {},
   "outputs": [
    {
     "name": "stdout",
     "output_type": "stream",
     "text": [
      "Variable: hour Split: 7\n",
      "Ganancia de información: 20485.13561876939\n",
      "  Variable: hour Split: 6\n",
      "  Ganancia de información: 646.8008927589567\n",
      "    Variable: hour Split: 2\n",
      "    Ganancia de información: 382.8088308604629\n",
      "      Variable: season Split: 2\n",
      "      Ganancia de información: 291.4004681825131\n",
      "        Variable: hour Split: 1\n",
      "        Ganancia de información: 45.41972746495435\n",
      "          Predicción: 28.292035398230087\n",
      "          Predicción: 18.761061946902654\n",
      "        Variable: hour Split: 1\n",
      "        Ganancia de información: 316.1751143186211\n",
      "          Variable: season Split: 4\n",
      "          Ganancia de información: 37.59626038780971\n",
      "            Predicción: 67.07456140350877\n",
      "            Predicción: 57.87719298245614\n",
      "          Variable: season Split: 3\n",
      "          Ganancia de información: 10.425846423569055\n",
      "            Predicción: 35.64035087719298\n",
      "            Predicción: 40.480176211453745\n",
      "      Variable: hour Split: 3\n",
      "      Ganancia de información: 39.229899273669275\n",
      "        Variable: season Split: 2\n",
      "        Ganancia de información: 58.9740013202146\n",
      "          Predicción: 13.205607476635514\n",
      "          Variable: season Split: 4\n",
      "          Ganancia de información: 10.65568633118778\n",
      "            Predicción: 27.577092511013216\n",
      "            Predicción: 22.68421052631579\n",
      "        Variable: hour Split: 5\n",
      "        Ganancia de información: 51.55182386612603\n",
      "          Variable: hour Split: 4\n",
      "          Ganancia de información: 14.311158670464266\n",
      "            Predicción: 11.757505773672056\n",
      "            Predicción: 6.407239819004525\n",
      "          Variable: season Split: 2\n",
      "          Ganancia de información: 57.661438120649336\n",
      "            Predicción: 10.3\n",
      "            Predicción: 22.81286549707602\n",
      "    Variable: season Split: 2\n",
      "    Ganancia de información: 743.095592335012\n",
      "      Predicción: 42.72566371681416\n",
      "      Variable: season Split: 4\n",
      "      Ganancia de información: 25.855143462948035\n",
      "        Variable: season Split: 3\n",
      "        Ganancia de información: 95.19579101261843\n",
      "          Predicción: 82.98245614035088\n",
      "          Predicción: 96.78070175438596\n",
      "        Predicción: 82.25438596491227\n",
      "  Variable: season Split: 2\n",
      "  Ganancia de información: 6844.565950091463\n",
      "    Variable: hour Split: 20\n",
      "    Ganancia de información: 3030.342442910318\n",
      "      Variable: hour Split: 17\n",
      "      Ganancia de información: 2402.687949251347\n",
      "        Variable: hour Split: 9\n",
      "        Ganancia de información: 501.1808225906352\n",
      "          Variable: hour Split: 8\n",
      "          Ganancia de información: 8309.087986529878\n",
      "            Predicción: 124.43362831858407\n",
      "            Predicción: 253.34513274336283\n",
      "          Variable: hour Split: 12\n",
      "          Ganancia de información: 620.7517674745322\n",
      "            Predicción: 126.40412979351032\n",
      "            Predicción: 162.83508771929826\n",
      "        Variable: hour Split: 19\n",
      "        Ganancia de información: 3968.2631920933054\n",
      "          Variable: hour Split: 18\n",
      "          Ganancia de información: 320.00061557401204\n",
      "            Predicción: 283.4561403508772\n",
      "            Predicción: 258.1578947368421\n",
      "          Predicción: 176.31578947368422\n",
      "      Variable: hour Split: 22\n",
      "      Ganancia de información: 1286.4460699446008\n",
      "        Variable: hour Split: 21\n",
      "        Ganancia de información: 423.3029008925805\n",
      "          Predicción: 124.39473684210526\n",
      "          Predicción: 95.29824561403508\n",
      "        Variable: hour Split: 23\n",
      "        Ganancia de información: 380.2991689750679\n",
      "          Predicción: 72.91228070175438\n",
      "          Predicción: 45.333333333333336\n",
      "    Variable: hour Split: 21\n",
      "    Ganancia de información: 8073.4670239162515\n",
      "      Variable: hour Split: 16\n",
      "      Ganancia de información: 7363.749494439049\n",
      "        Variable: hour Split: 9\n",
      "        Ganancia de información: 1249.39629596757\n",
      "          Variable: hour Split: 8\n",
      "          Ganancia de información: 12247.040221777657\n",
      "            Predicción: 242.41812865497076\n",
      "            Predicción: 398.92397660818716\n",
      "          Variable: hour Split: 12\n",
      "          Ganancia de información: 1622.4360912724806\n",
      "            Predicción: 227.66374269005848\n",
      "            Predicción: 285.21783625730995\n",
      "        Variable: hour Split: 19\n",
      "        Ganancia de información: 10357.058249717928\n",
      "          Variable: hour Split: 17\n",
      "          Ganancia de información: 10070.885409185605\n",
      "            Predicción: 358.9502923976608\n",
      "            Predicción: 509.4809941520468\n",
      "          Variable: hour Split: 20\n",
      "          Ganancia de información: 4838.748401217395\n",
      "            Predicción: 361.59941520467834\n",
      "            Predicción: 263.22514619883043\n",
      "      Variable: hour Split: 23\n",
      "      Ganancia de información: 2327.263104696969\n",
      "        Variable: hour Split: 22\n",
      "        Ganancia de información: 1039.5200061557407\n",
      "          Variable: season Split: 4\n",
      "          Ganancia de información: 1333.531009541417\n",
      "            Predicción: 217.65350877192984\n",
      "            Predicción: 162.87719298245614\n",
      "          Variable: season Split: 4\n",
      "          Ganancia de información: 749.9910741766653\n",
      "            Predicción: 167.49122807017545\n",
      "            Predicción: 126.41228070175438\n",
      "        Variable: season Split: 4\n",
      "        Ganancia de información: 223.0743134639706\n",
      "          Variable: season Split: 3\n",
      "          Ganancia de información: 200.70236995998494\n",
      "            Predicción: 101.6842105263158\n",
      "            Predicción: 121.71929824561404\n",
      "          Predicción: 89.29824561403508\n"
     ]
    }
   ],
   "source": [
    "# Celda 4\n",
    "\n",
    "X = bikes[['hour', 'season']]\n",
    "y = bikes['total']\n",
    "\n",
    "def gini(y):\n",
    "    if y.shape[0] == 0:\n",
    "        return 0\n",
    "    else:\n",
    "        return 1 - (y.mean()**2 + (1 - y.mean())**2)\n",
    "\n",
    "# Función para calcular la impureza de Gini\n",
    "def gini_impurity(X_col, y, split):\n",
    "    \n",
    "    filter_l = X_col < split\n",
    "    y_l = y.loc[filter_l]\n",
    "    y_r = y.loc[~filter_l]\n",
    "    \n",
    "    n_l = y_l.shape[0]\n",
    "    n_r = y_r.shape[0]\n",
    "    \n",
    "    gini_y = gini(y)\n",
    "    gini_l = gini(y_l)\n",
    "    gini_r = gini(y_r)\n",
    "    \n",
    "    gini_impurity_ = gini_y - (n_l / (n_l + n_r) * gini_l + n_r / (n_l + n_r) * gini_r)\n",
    "    \n",
    "    return gini_impurity_\n",
    "\n",
    "def best_split(X, y):\n",
    "    \n",
    "    features = range(X.shape[1])\n",
    "    \n",
    "    best_split = [0, 0, 0]\n",
    "    \n",
    "    for j in features:\n",
    "        for split in X.iloc[:, j].unique():\n",
    "            gain = gini_impurity(X.iloc[:, j], y, split)\n",
    "                        \n",
    "            if gain > best_split[2]:\n",
    "                best_split = [j, split, gain]\n",
    "    \n",
    "    return best_split\n",
    "\n",
    "def tree_grow(X, y, level=0, min_gain=0.001, min_samples_leaf=6, max_depth=None):#control de los 6 nodos\n",
    "    \n",
    "    if X.shape[0] == 1 or level == max_depth or X.shape[0] < min_samples_leaf:\n",
    "        tree = dict(y_pred=y.mean(), level=level, split=-1, n_samples=X.shape[0], gain=0)\n",
    "        return tree\n",
    "    \n",
    "    j, split, gain = best_split(X, y)\n",
    "    \n",
    "    y_pred = y.mean()\n",
    "    \n",
    "    tree = dict(y_pred=y_pred, level=level, split=-1, n_samples=X.shape[0], gain=gain)\n",
    "    if gain < min_gain:\n",
    "        return tree\n",
    "    \n",
    "    filter_l = X.iloc[:, j] < split\n",
    "    X_l, y_l = X.loc[filter_l], y.loc[filter_l]\n",
    "    X_r, y_r = X.loc[~filter_l], y.loc[~filter_l]\n",
    "    tree['split'] = [j, split]\n",
    "\n",
    "    \n",
    "    tree['sl'] = tree_grow(X_l, y_l, level + 1, min_gain=min_gain, min_samples_leaf=min_samples_leaf, max_depth=max_depth)\n",
    "    tree['sr'] = tree_grow(X_r, y_r, level + 1, min_gain=min_gain, min_samples_leaf=min_samples_leaf, max_depth=max_depth)\n",
    "    \n",
    "    return tree\n",
    "\n",
    "def print_tree(tree, depth=0):\n",
    "    if tree['split'] == -1:\n",
    "        print(depth * '  ' + 'Predicción:', tree['y_pred'])\n",
    "        return\n",
    "    print(depth * '  ' + 'Variable:', X.columns[tree['split'][0]], 'Split:', tree['split'][1])\n",
    "    print(depth * '  ' + 'Ganancia de información:', tree['gain'])\n",
    "    print_tree(tree['sl'], depth + 1)\n",
    "    print_tree(tree['sr'], depth + 1)\n",
    "\n",
    "tree = tree_grow(X, y, level=0, min_gain=0.001, min_samples_leaf=6, max_depth=6)\n",
    "print_tree(tree)\n"
   ]
  },
  {
   "cell_type": "markdown",
   "metadata": {},
   "source": [
    "### Punto 5 - Árbol de decisión con librería\n",
    "En la celda 5 entrene un árbol de decisiones con la **librería sklearn**, usando las variables predictoras \"season\" y \"hour\" y calibre los parámetros que considere conveniente para obtener un mejor desempeño. Recuerde dividir los datos en conjuntos de entrenamiento y validación para esto. Comente el desempeño del modelo con alguna métrica de desempeño de modelos de regresión y compare desempeño con el modelo del punto 3."
   ]
  },
  {
   "cell_type": "code",
   "execution_count": 55,
   "metadata": {
    "scrolled": true
   },
   "outputs": [
    {
     "name": "stdout",
     "output_type": "stream",
     "text": [
      "Mejor valor de max_depth: {'max_depth': 8}\n",
      "Error cuadrático medio en conjunto de validación: 12905.804423909658\n",
      "Error cuadrático medio en conjunto de prueba: 13464.749112666655\n"
     ]
    }
   ],
   "source": [
    "# Celda 5\n",
    "X_train, X_test, y_train, y_test = train_test_split(X, y, test_size=0.2, random_state=42)\n",
    "\n",
    "max_depth_range = range(1, 24)\n",
    "\n",
    "tree_reg = DecisionTreeRegressor()\n",
    "\n",
    "param_grid = {'max_depth': max_depth_range}\n",
    "\n",
    "grid = GridSearchCV(estimator=tree_reg, param_grid=param_grid, cv=5, scoring='neg_mean_squared_error')\n",
    "\n",
    "grid.fit(X_train, y_train)\n",
    "\n",
    "print(\"Mejor valor de max_depth:\", grid.best_params_)\n",
    "mse = -grid.best_score_\n",
    "print(\"Error cuadrático medio en conjunto de validación:\", mse)\n",
    "y_pred = grid.best_estimator_.predict(X_test)\n",
    "mse_test_tree = mean_squared_error(y_test, y_pred)\n",
    "print(\"Error cuadrático medio en conjunto de prueba:\", mse_test_tree)"
   ]
  },
  {
   "cell_type": "code",
   "execution_count": 58,
   "metadata": {},
   "outputs": [
    {
     "data": {
      "image/png": "[encoded data removed]",
      "text/plain": [
       "<Figure size 1000x600 with 1 Axes>"
      ]
     },
     "metadata": {},
     "output_type": "display_data"
    }
   ],
   "source": [
    "mse_entrenamiento_regresion = mse_train\n",
    "mse_prueba_regresion = mse_test\n",
    "\n",
    "mejor_max_depth = grid.best_params_['max_depth']\n",
    "mejor_arbol = grid.best_estimator_\n",
    "mse_entrenamiento_arbol = -grid.best_score_\n",
    "mse_prueba_arbol = mse_test_tree\n",
    "\n",
    "modelos = ['Regresión Lineal', f'Árbol de Decisiones (max_depth={mejor_max_depth})']\n",
    "mse_prueba = [mse_prueba_regresion, mse_prueba_arbol]\n",
    "\n",
    "plt.figure(figsize=(10, 6))\n",
    "plt.bar(modelos, mse_prueba, color='lightcoral', label='Prueba')\n",
    "\n",
    "plt.xlabel('Modelo')\n",
    "plt.ylabel('MSE')\n",
    "plt.title('Regresión Lineal vs Árbol de Decisiones')\n",
    "plt.legend()\n",
    "\n",
    "plt.show()"
   ]
  },
  {
   "cell_type": "markdown",
   "metadata": {},
   "source": [
    "Se observa que el modelo de árbol de decisiones con una profundidad máxima de 8 tiene un MSE significativamente menor en el conjunto de prueba en comparación con el modelo de regresión lineal. Esto sugiere que el modelo de árbol de decisiones tiene un mejor rendimiento en términos de ajuste y generalización en comparación con el modelo de regresión lineal."
   ]
  },
  {
   "cell_type": "markdown",
   "metadata": {},
   "source": [
    "## Parte B - Métodos de ensamblajes\n",
    "En esta parte del taller se usará el conjunto de datos de Popularidad de Noticias Online. El objetivo es predecir si la notica es popular o no, la popularidad está dada por la cantidad de reacciones en redes sociales. Para más detalles puede visitar el siguiente enlace: [datos](https://archive.ics.uci.edu/ml/datasets/online+news+popularity)."
   ]
  },
  {
   "cell_type": "markdown",
   "metadata": {},
   "source": [
    "### Datos popularidad de noticias"
   ]
  },
  {
   "cell_type": "code",
   "execution_count": 59,
   "metadata": {
    "scrolled": true
   },
   "outputs": [
    {
     "data": {
      "text/html": [
       "<div>\n",
       "<style scoped>\n",
       "    .dataframe tbody tr th:only-of-type {\n",
       "        vertical-align: middle;\n",
       "    }\n",
       "\n",
       "    .dataframe tbody tr th {\n",
       "        vertical-align: top;\n",
       "    }\n",
       "\n",
       "    .dataframe thead th {\n",
       "        text-align: right;\n",
       "    }\n",
       "</style>\n",
       "<table border=\"1\" class=\"dataframe\">\n",
       "  <thead>\n",
       "    <tr style=\"text-align: right;\">\n",
       "      <th></th>\n",
       "      <th>url</th>\n",
       "      <th>timedelta</th>\n",
       "      <th>n_tokens_title</th>\n",
       "      <th>n_tokens_content</th>\n",
       "      <th>n_unique_tokens</th>\n",
       "      <th>n_non_stop_words</th>\n",
       "      <th>n_non_stop_unique_tokens</th>\n",
       "      <th>num_hrefs</th>\n",
       "      <th>num_self_hrefs</th>\n",
       "      <th>num_imgs</th>\n",
       "      <th>...</th>\n",
       "      <th>min_positive_polarity</th>\n",
       "      <th>max_positive_polarity</th>\n",
       "      <th>avg_negative_polarity</th>\n",
       "      <th>min_negative_polarity</th>\n",
       "      <th>max_negative_polarity</th>\n",
       "      <th>title_subjectivity</th>\n",
       "      <th>title_sentiment_polarity</th>\n",
       "      <th>abs_title_subjectivity</th>\n",
       "      <th>abs_title_sentiment_polarity</th>\n",
       "      <th>Popular</th>\n",
       "    </tr>\n",
       "  </thead>\n",
       "  <tbody>\n",
       "    <tr>\n",
       "      <th>0</th>\n",
       "      <td>http://mashable.com/2014/12/10/cia-torture-rep...</td>\n",
       "      <td>28.0</td>\n",
       "      <td>9.0</td>\n",
       "      <td>188.0</td>\n",
       "      <td>0.732620</td>\n",
       "      <td>1.0</td>\n",
       "      <td>0.844262</td>\n",
       "      <td>5.0</td>\n",
       "      <td>1.0</td>\n",
       "      <td>1.0</td>\n",
       "      <td>...</td>\n",
       "      <td>0.200000</td>\n",
       "      <td>0.80</td>\n",
       "      <td>-0.487500</td>\n",
       "      <td>-0.60</td>\n",
       "      <td>-0.250000</td>\n",
       "      <td>0.9</td>\n",
       "      <td>0.8</td>\n",
       "      <td>0.4</td>\n",
       "      <td>0.8</td>\n",
       "      <td>1</td>\n",
       "    </tr>\n",
       "    <tr>\n",
       "      <th>1</th>\n",
       "      <td>http://mashable.com/2013/10/18/bitlock-kicksta...</td>\n",
       "      <td>447.0</td>\n",
       "      <td>7.0</td>\n",
       "      <td>297.0</td>\n",
       "      <td>0.653199</td>\n",
       "      <td>1.0</td>\n",
       "      <td>0.815789</td>\n",
       "      <td>9.0</td>\n",
       "      <td>4.0</td>\n",
       "      <td>1.0</td>\n",
       "      <td>...</td>\n",
       "      <td>0.160000</td>\n",
       "      <td>0.50</td>\n",
       "      <td>-0.135340</td>\n",
       "      <td>-0.40</td>\n",
       "      <td>-0.050000</td>\n",
       "      <td>0.1</td>\n",
       "      <td>-0.1</td>\n",
       "      <td>0.4</td>\n",
       "      <td>0.1</td>\n",
       "      <td>0</td>\n",
       "    </tr>\n",
       "    <tr>\n",
       "      <th>2</th>\n",
       "      <td>http://mashable.com/2013/07/24/google-glass-po...</td>\n",
       "      <td>533.0</td>\n",
       "      <td>11.0</td>\n",
       "      <td>181.0</td>\n",
       "      <td>0.660377</td>\n",
       "      <td>1.0</td>\n",
       "      <td>0.775701</td>\n",
       "      <td>4.0</td>\n",
       "      <td>3.0</td>\n",
       "      <td>1.0</td>\n",
       "      <td>...</td>\n",
       "      <td>0.136364</td>\n",
       "      <td>1.00</td>\n",
       "      <td>0.000000</td>\n",
       "      <td>0.00</td>\n",
       "      <td>0.000000</td>\n",
       "      <td>0.3</td>\n",
       "      <td>1.0</td>\n",
       "      <td>0.2</td>\n",
       "      <td>1.0</td>\n",
       "      <td>0</td>\n",
       "    </tr>\n",
       "    <tr>\n",
       "      <th>3</th>\n",
       "      <td>http://mashable.com/2013/11/21/these-are-the-m...</td>\n",
       "      <td>413.0</td>\n",
       "      <td>12.0</td>\n",
       "      <td>781.0</td>\n",
       "      <td>0.497409</td>\n",
       "      <td>1.0</td>\n",
       "      <td>0.677350</td>\n",
       "      <td>10.0</td>\n",
       "      <td>3.0</td>\n",
       "      <td>1.0</td>\n",
       "      <td>...</td>\n",
       "      <td>0.100000</td>\n",
       "      <td>1.00</td>\n",
       "      <td>-0.195701</td>\n",
       "      <td>-0.40</td>\n",
       "      <td>-0.071429</td>\n",
       "      <td>0.0</td>\n",
       "      <td>0.0</td>\n",
       "      <td>0.5</td>\n",
       "      <td>0.0</td>\n",
       "      <td>0</td>\n",
       "    </tr>\n",
       "    <tr>\n",
       "      <th>4</th>\n",
       "      <td>http://mashable.com/2014/02/11/parking-ticket-...</td>\n",
       "      <td>331.0</td>\n",
       "      <td>8.0</td>\n",
       "      <td>177.0</td>\n",
       "      <td>0.685714</td>\n",
       "      <td>1.0</td>\n",
       "      <td>0.830357</td>\n",
       "      <td>3.0</td>\n",
       "      <td>2.0</td>\n",
       "      <td>1.0</td>\n",
       "      <td>...</td>\n",
       "      <td>0.100000</td>\n",
       "      <td>0.55</td>\n",
       "      <td>-0.175000</td>\n",
       "      <td>-0.25</td>\n",
       "      <td>-0.100000</td>\n",
       "      <td>0.0</td>\n",
       "      <td>0.0</td>\n",
       "      <td>0.5</td>\n",
       "      <td>0.0</td>\n",
       "      <td>0</td>\n",
       "    </tr>\n",
       "  </tbody>\n",
       "</table>\n",
       "<p>5 rows × 61 columns</p>\n",
       "</div>"
      ],
      "text/plain": [
       "                                                 url  timedelta  \\\n",
       "0  http://mashable.com/2014/12/10/cia-torture-rep...       28.0   \n",
       "1  http://mashable.com/2013/10/18/bitlock-kicksta...      447.0   \n",
       "2  http://mashable.com/2013/07/24/google-glass-po...      533.0   \n",
       "3  http://mashable.com/2013/11/21/these-are-the-m...      413.0   \n",
       "4  http://mashable.com/2014/02/11/parking-ticket-...      331.0   \n",
       "\n",
       "   n_tokens_title  n_tokens_content  n_unique_tokens  n_non_stop_words  \\\n",
       "0             9.0             188.0         0.732620               1.0   \n",
       "1             7.0             297.0         0.653199               1.0   \n",
       "2            11.0             181.0         0.660377               1.0   \n",
       "3            12.0             781.0         0.497409               1.0   \n",
       "4             8.0             177.0         0.685714               1.0   \n",
       "\n",
       "   n_non_stop_unique_tokens  num_hrefs  num_self_hrefs  num_imgs  ...  \\\n",
       "0                  0.844262        5.0             1.0       1.0  ...   \n",
       "1                  0.815789        9.0             4.0       1.0  ...   \n",
       "2                  0.775701        4.0             3.0       1.0  ...   \n",
       "3                  0.677350       10.0             3.0       1.0  ...   \n",
       "4                  0.830357        3.0             2.0       1.0  ...   \n",
       "\n",
       "   min_positive_polarity  max_positive_polarity  avg_negative_polarity  \\\n",
       "0               0.200000                   0.80              -0.487500   \n",
       "1               0.160000                   0.50              -0.135340   \n",
       "2               0.136364                   1.00               0.000000   \n",
       "3               0.100000                   1.00              -0.195701   \n",
       "4               0.100000                   0.55              -0.175000   \n",
       "\n",
       "   min_negative_polarity  max_negative_polarity  title_subjectivity  \\\n",
       "0                  -0.60              -0.250000                 0.9   \n",
       "1                  -0.40              -0.050000                 0.1   \n",
       "2                   0.00               0.000000                 0.3   \n",
       "3                  -0.40              -0.071429                 0.0   \n",
       "4                  -0.25              -0.100000                 0.0   \n",
       "\n",
       "   title_sentiment_polarity  abs_title_subjectivity  \\\n",
       "0                       0.8                     0.4   \n",
       "1                      -0.1                     0.4   \n",
       "2                       1.0                     0.2   \n",
       "3                       0.0                     0.5   \n",
       "4                       0.0                     0.5   \n",
       "\n",
       "   abs_title_sentiment_polarity  Popular  \n",
       "0                           0.8        1  \n",
       "1                           0.1        0  \n",
       "2                           1.0        0  \n",
       "3                           0.0        0  \n",
       "4                           0.0        0  \n",
       "\n",
       "[5 rows x 61 columns]"
      ]
     },
     "execution_count": 59,
     "metadata": {},
     "output_type": "execute_result"
    }
   ],
   "source": [
    "# Lectura de la información de archivo .csv\n",
    "df = pd.read_csv('https://raw.githubusercontent.com/davidzarruk/MIAD_ML_NLP_2023/main/datasets/mashable.csv', index_col=0)\n",
    "df.head()"
   ]
  },
  {
   "cell_type": "code",
   "execution_count": 60,
   "metadata": {},
   "outputs": [
    {
     "data": {
      "text/plain": [
       "0.5"
      ]
     },
     "execution_count": 60,
     "metadata": {},
     "output_type": "execute_result"
    }
   ],
   "source": [
    "# Definición variable de interes y variables predictoras\n",
    "X = df.drop(['url', 'Popular'], axis=1)\n",
    "y = df['Popular']\n",
    "y.mean()"
   ]
  },
  {
   "cell_type": "code",
   "execution_count": 61,
   "metadata": {},
   "outputs": [],
   "source": [
    "# División de la muestra en set de entrenamiento y prueba\n",
    "from sklearn.model_selection import train_test_split\n",
    "X_train, X_test, y_train, y_test = train_test_split(X, y, random_state=1)"
   ]
  },
  {
   "cell_type": "markdown",
   "metadata": {},
   "source": [
    "### Punto 6 - Árbol de decisión y regresión logística\n",
    "En la celda 6 construya un árbol de decisión y una regresión logística. Para el árbol calibre al menos un parámetro y evalúe el desempeño de cada modelo usando las métricas de Accuracy y F1-Score."
   ]
  },
  {
   "cell_type": "code",
   "execution_count": 65,
   "metadata": {},
   "outputs": [
    {
     "name": "stdout",
     "output_type": "stream",
     "text": [
      "Desempeño del árbol de decisiones:\n",
      "Accuracy: 0.6373333333333333\n",
      "F1-Score: 0.6616915422885573\n",
      "\n",
      "Desempeño de la regresión logística:\n",
      "Accuracy: 0.6473333333333333\n",
      "F1-Score: 0.6379192334017796\n"
     ]
    }
   ],
   "source": [
    "# Celda 6\n",
    "tree_clf = DecisionTreeClassifier(random_state=1)\n",
    "\n",
    "# Parámetros a calibrar para el árbol de decisiones\n",
    "param_grid_tree = {\n",
    "    'max_depth': [None, 5, 10, 15],  # Ajusta la profundidad máxima del árbol\n",
    "    'min_samples_split': [2, 5, 10],  # Ajusta el número mínimo de muestras requeridas para dividir un nodo interno\n",
    "    'min_samples_leaf': [1, 2, 5]  # Ajusta el número mínimo de muestras requeridas para estar en un nodo hoja\n",
    "}\n",
    "\n",
    "log_reg = LogisticRegression(max_iter=1000)\n",
    "\n",
    "\n",
    "param_grid_logreg = {\n",
    "    'C': [0.1, 1, 10],\n",
    "    'solver': ['liblinear', 'lbfgs', 'newton-cg']\n",
    "}\n",
    "\n",
    "\n",
    "grid_tree = GridSearchCV(tree_clf, param_grid_tree, cv=5, scoring='accuracy')\n",
    "grid_tree.fit(X_train, y_train)\n",
    "\n",
    "\n",
    "grid_logreg = GridSearchCV(log_reg, param_grid_logreg, cv=5, scoring='accuracy')\n",
    "grid_logreg.fit(X_train, y_train)\n",
    "\n",
    "\n",
    "best_tree_model = grid_tree.best_estimator_\n",
    "\n",
    "\n",
    "best_logreg_model = grid_logreg.best_estimator_\n",
    "\n",
    "\n",
    "y_pred_tree = best_tree_model.predict(X_test)\n",
    "y_pred_logreg = best_logreg_model.predict(X_test)\n",
    "\n",
    "\n",
    "accuracy_tree = accuracy_score(y_test, y_pred_tree)\n",
    "f1_tree = f1_score(y_test, y_pred_tree)\n",
    "\n",
    "\n",
    "accuracy_logreg = accuracy_score(y_test, y_pred_logreg)\n",
    "f1_logreg = f1_score(y_test, y_pred_logreg)\n",
    "\n",
    "print(\"Desempeño del árbol de decisiones:\")\n",
    "print(f\"Accuracy: {accuracy_tree}\")\n",
    "print(f\"F1-Score: {f1_tree}\")\n",
    "print(\"\\nDesempeño de la regresión logística:\")\n",
    "print(f\"Accuracy: {accuracy_logreg}\")\n",
    "print(f\"F1-Score: {f1_logreg}\")\n"
   ]
  },
  {
   "cell_type": "markdown",
   "metadata": {},
   "source": [
    "### Punto 7 - Votación Mayoritaria\n",
    "En la celda 7 elabore un esamble con la metodología de **Votación mayoritaria** compuesto por 300 muestras bagged para cada uno de los siguientes escenarios:\n",
    "\n",
    "-100 árboles de decisión donde max_depth tome un valor de su elección\\\n",
    "-100 árboles de decisión donde min_samples_leaf tome un valor de su elección\\\n",
    "-100 regresiones logísticas\n",
    "\n",
    "Evalúe cada uno de los tres modelos de manera independiente utilizando las métricas de Accuracy y F1-Score, luego evalúe el ensamble de modelos y compare los resultados. "
   ]
  },
  {
   "cell_type": "code",
   "execution_count": 85,
   "metadata": {},
   "outputs": [],
   "source": [
    "# Celda 7\n",
    "\n",
    "decision_trees_max_depth = []\n",
    "for _ in range(100):\n",
    "    tree = DecisionTreeClassifier(max_depth=3)\n",
    "    bagged_tree = BaggingClassifier(base_estimator=tree, n_estimators=1, random_state=1)\n",
    "    bagged_tree.fit(X_train, y_train)\n",
    "    decision_trees_max_depth.append(('tree_max_depth_' + str(_), bagged_tree))\n",
    "\n",
    "decision_trees_min_samples_leaf = []\n",
    "for _ in range(100):\n",
    "    tree = DecisionTreeClassifier(min_samples_leaf=5)\n",
    "    bagged_tree = BaggingClassifier(base_estimator=tree, n_estimators=1, random_state=1)\n",
    "    bagged_tree.fit(X_train, y_train)\n",
    "    decision_trees_min_samples_leaf.append(('tree_min_samples_leaf_' + str(_), bagged_tree))\n",
    "\n",
    "logistic_regressions = []\n",
    "for _ in range(100):\n",
    "    logistic_regression = LogisticRegression()\n",
    "    logistic_regression.fit(X_train, y_train)\n",
    "    logistic_regressions.append(('logistic_regression_' + str(_), logistic_regression))\n",
    "\n"
   ]
  },
  {
   "cell_type": "code",
   "execution_count": 86,
   "metadata": {},
   "outputs": [
    {
     "name": "stdout",
     "output_type": "stream",
     "text": [
      "Accuracy es: 0.6193333333333333\n",
      "F1-Score es: 0.5767234988880653\n"
     ]
    }
   ],
   "source": [
    "\n",
    "models = decision_trees_max_depth + decision_trees_min_samples_leaf + logistic_regressions\n",
    "voting_clf = VotingClassifier(estimators=models, voting='hard')\n",
    "\n",
    "voting_clf.fit(X_train, y_train)\n",
    "\n",
    "predictions_majority_vote = voting_clf.predict(X_test)\n",
    "\n",
    "accuracy_majority_vote = accuracy_score(y_test, predictions_majority_vote)\n",
    "f1_majority_vote = f1_score(y_test, predictions_majority_vote)\n",
    "\n",
    "print(\"Accuracy es:\",accuracy_majority_vote)\n",
    "print(\"F1-Score es:\",f1_majority_vote)"
   ]
  },
  {
   "cell_type": "markdown",
   "metadata": {},
   "source": [
    "### Punto 8 - Votación Ponderada\n",
    "En la celda 8 elabore un ensamble con la metodología de **Votación ponderada** compuesto por 300 muestras bagged para los mismos tres escenarios del punto 7. Evalúe los modelos utilizando las métricas de Accuracy y F1-Score"
   ]
  },
  {
   "cell_type": "code",
   "execution_count": 87,
   "metadata": {},
   "outputs": [],
   "source": [
    "# Celda 8\n",
    "\n",
    "models = []\n",
    "\n",
    "for i in range(100):\n",
    "    tree = DecisionTreeClassifier(max_depth=3)\n",
    "    bagged_tree = BaggingClassifier(base_estimator=tree, n_estimators=1, random_state=1)\n",
    "    bagged_tree.fit(X_train, y_train)\n",
    "    models.append(('tree_max_depth_' + str(i), bagged_tree))\n",
    "\n",
    "\n",
    "for i in range(100):\n",
    "    tree = DecisionTreeClassifier(min_samples_leaf=5)\n",
    "    bagged_tree = BaggingClassifier(base_estimator=tree, n_estimators=1, random_state=1)\n",
    "    bagged_tree.fit(X_train, y_train)\n",
    "    models.append(('tree_min_samples_leaf_' + str(i), bagged_tree))\n",
    "\n",
    "\n",
    "for i in range(100):\n",
    "    logistic_regression = LogisticRegression()\n",
    "    logistic_regression.fit(X_train, y_train)\n",
    "    models.append(('logistic_regression_' + str(i), logistic_regression))\n",
    "\n"
   ]
  },
  {
   "cell_type": "code",
   "execution_count": 88,
   "metadata": {},
   "outputs": [
    {
     "name": "stdout",
     "output_type": "stream",
     "text": [
      "Accuracy es: 0.6013333333333334\n",
      "F1-Score es: 0.5975773889636609\n"
     ]
    }
   ],
   "source": [
    "voting_clf_weighted = VotingClassifier(estimators=models, voting='soft')\n",
    "\n",
    "\n",
    "voting_clf_weighted.fit(X_train, y_train)\n",
    "\n",
    "\n",
    "predictions_weighted_vote = voting_clf_weighted.predict(X_test)\n",
    "\n",
    "\n",
    "accuracy_weighted_vote = accuracy_score(y_test, predictions_weighted_vote)\n",
    "f1_weighted_vote = f1_score(y_test, predictions_weighted_vote)\n",
    "\n",
    "print(\"Accuracy es:\",accuracy_weighted_vote)\n",
    "print(\"F1-Score es:\",f1_weighted_vote)"
   ]
  },
  {
   "cell_type": "markdown",
   "metadata": {},
   "source": [
    "### Punto 9 - Comparación y análisis de resultados\n",
    "En la celda 9 comente sobre los resultados obtenidos con las metodologías usadas en los puntos 7 y 8, compare los resultados y enuncie posibles ventajas o desventajas de cada una de ellas."
   ]
  },
  {
   "cell_type": "code",
   "execution_count": 81,
   "metadata": {
    "scrolled": false
   },
   "outputs": [
    {
     "data": {
      "image/png": "[encoded data removed]",
      "text/plain": [
       "<Figure size 1200x600 with 2 Axes>"
      ]
     },
     "metadata": {},
     "output_type": "display_data"
    }
   ],
   "source": [
    "# Celda 9\n",
    "accuracy_scores = [accuracy_majority_vote, accuracy_weighted_vote]\n",
    "f1_scores = [f1_majority_vote, f1_weighted_vote]\n",
    "labels = ['Votación Mayoritaria Manual', 'Votación Ponderada con VotingClassifier']\n",
    "\n",
    "plt.figure(figsize=(12, 6))\n",
    "plt.subplot(1, 2, 1)\n",
    "plt.bar(labels, accuracy_scores, color=['blue', 'green'])\n",
    "plt.title('Accuracy Comparison')\n",
    "plt.ylabel('Accuracy')\n",
    "plt.ylim(0, 1)\n",
    "\n",
    "plt.subplot(1, 2, 2)\n",
    "plt.bar(labels, f1_scores, color=['blue', 'green'])\n",
    "plt.title('F1-Score Comparison')\n",
    "plt.ylabel('F1-Score')\n",
    "plt.ylim(0, 1)\n",
    "\n",
    "plt.tight_layout()\n",
    "plt.show()"
   ]
  },
  {
   "cell_type": "markdown",
   "metadata": {},
   "source": [
    "Segun la popularidad de las noticias online si es o no popular utilizando métricas como Accuracy y F1-Score segun los resultados obtenidos en el punto 7 en el cual se utilizo la metodología de votación mayoritaria para combinar 300 modelos de árboles de decisión y regresiones logísticas. El modelo resultante logró un Accuracy de 0.6193333333333333 y un F1-Score de 0.5767234988880653 mientras que en el punto 8 se empleó la metodología de votación ponderada para combinar los mismos 300 modelos en el cual se tubo un Accuracy de 0.6013333333333334 y un F1-Score de 0.5975773889636609.\n",
    "\n",
    "viendo los resultados resultados se puede observar rendimientos similares para predecir la popularidad de las noticias, pero se puede ver que la votacion ponderada tiene un mejor F1-Score con un Accuracy mas bajo a en comparacion con la votacion mayoritaria.La votación mayoritaria ofrece una implementación sencilla, pero no considera la confianza de los modelos en sus predicciones. Por otro lado, la votación ponderada tiene la ventaja de considerar la confianza de los modelos, aunque puede requerir una mayor especificidad en los pesos asignados a cada modelo, tambien se podria utilizar en los modelos una regularizacion como Lasso o Ridge y asi evitar el sobreajuste de los modelos."
   ]
  }
 ],
 "metadata": {
  "kernelspec": {
   "display_name": "Python 3 (ipykernel)",
   "language": "python",
   "name": "python3"
  },
  "language_info": {
   "codemirror_mode": {
    "name": "ipython",
    "version": 3
   },
   "file_extension": ".py",
   "mimetype": "text/x-python",
   "name": "python",
   "nbconvert_exporter": "python",
   "pygments_lexer": "ipython3",
   "version": "3.11.2"
  }
 },
 "nbformat": 4,
 "nbformat_minor": 4
}
